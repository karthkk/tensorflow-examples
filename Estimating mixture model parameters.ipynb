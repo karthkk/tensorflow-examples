{
 "cells": [
  {
   "cell_type": "markdown",
   "metadata": {},
   "source": [
    "I ran across this dataset in a project, looking at the histogram, the data looked like it was a mixture of an exponential and a gaussian distribution. So I tried using EM to extract the parameters. Estimation was pretty slow on a CPU, tried it on a GPU using tensorflow.  The only difference in the code for tensorflow and numpy turned out to be replacing \"np.\" with \"tf.\" in the functions. "
   ]
  },
  {
   "cell_type": "code",
   "execution_count": 1,
   "metadata": {
    "collapsed": true
   },
   "outputs": [],
   "source": [
    "%matplotlib inline\n",
    "from matplotlib import pyplot as pl"
   ]
  },
  {
   "cell_type": "code",
   "execution_count": 2,
   "metadata": {
    "collapsed": true
   },
   "outputs": [],
   "source": [
    "import tensorflow as tf\n",
    "import numpy as np"
   ]
  },
  {
   "cell_type": "markdown",
   "metadata": {},
   "source": [
    "#### Load data and plot histogram"
   ]
  },
  {
   "cell_type": "code",
   "execution_count": 3,
   "metadata": {
    "collapsed": false
   },
   "outputs": [
    {
     "data": {
      "image/png": "[encoded data removed]",
      "text/plain": [
       "<matplotlib.figure.Figure at 0x7fe5e1a2e910>"
      ]
     },
     "metadata": {},
     "output_type": "display_data"
    }
   ],
   "source": [
    "with open('data.npy') as f:\n",
    "    data = np.load(f)\n",
    "\n",
    "cnts_and_bins = pl.hist(data, bins=150)"
   ]
  },
  {
   "cell_type": "markdown",
   "metadata": {},
   "source": [
    " Looks like the data is being generated from a mixture model, a mixture of Gaussian distribution and an exponential distribution . We can use tensorflow and expectation maximization to fit the two distributions. \n",
    " \n",
    " Let us first generate a toy dataset and make sure our implementation is correct. \n",
    " \n",
    " We will start with 2 random variables $X_1$ and $X_2$, $X_1$ is exponentially distributed with parameter $\\lambda$. $X_2$ has a Gaussian distribution with mean $\\mu$ and variance $\\sigma^2$\n",
    " \n",
    " Let $pi$ be the prior probability that a sample is from X1, \n",
    " $p(x/X_1) = \\pi$ and correspondingly, $p(x/X_2) = 1-\\pi $\n",
    " \n",
    "To maximize the log likelihood, with $\\theta$ being the set of all parameters,\n",
    "$ argmax_{\\theta}(ln(p(D/\\theta))) = argmax_{\\theta}(ln(\\prod_{i=1}^{N} p(x_i/X_1)\\cdotp(X_1) + p(x_i/X_2)\\cdotp(X_2)$))\n",
    "\n",
    "$= \\sum_{i=1}^{N} ln(exp(x_i/\\theta)\\cdot\\pi + N(x_i/\\theta)\\cdot(1-\\pi)) $\n",
    "\n",
    "Where \n",
    "\n",
    "$exp(x_i/\\theta) = \\lambda e^{-\\lambda x_i}$\n",
    "and \n",
    "$N(x_i/\\theta) = \\frac{1}{2\\pi\\sigma^2}e^{-\\frac{(x_i - \\mu)^2}{2\\sigma^2}}$\n"
   ]
  },
  {
   "cell_type": "markdown",
   "metadata": {},
   "source": [
    "Differentiating and equating to 0, \n",
    "* (a) wrt $\\lambda$ (parameter for  exp)\n",
    "\n",
    "$\\frac{\\partial}{\\partial \\lambda}  = \\sum_{i=1}^{N} \\frac{e^{-\\lambda x_i}(1 - x_i)}{exp(x_i/\\theta)\\cdot\\pi + N(x_i/\\theta)\\cdot(1-\\pi)}  $\n",
    "$\\ = \\sum_{i=1}^{N} \\frac{\\lambda e^{-\\lambda x_i}}{exp(x_i/\\theta)\\cdot\\pi + N(x_i/\\theta)\\cdot(1-\\pi)} \\cdot \\frac{(1 - \\lambda x_i)}{\\lambda} $\n",
    "$ = \\sum_{i=1}^{N} \\frac{exp(x_i/\\theta)}{exp(x_i/\\theta)\\cdot\\pi + N(x_i/\\theta)\\cdot(1-\\pi)} \\cdot \\frac{(1 - \\lambda x_i)}{\\lambda} $\n",
    "Let\n",
    "$\\frac{exp(x_i/\\theta)}{exp(x_i/\\theta)\\cdot\\pi + N(x_i/\\theta)\\cdot(1-\\pi)} = \\gamma_{exp_i}$\n",
    "\n",
    "Where $\\gamma{exp_i}$, is the responsibility factor, or the probability of $x_i$ being part of the exponential part of the mixture.\n",
    "\n",
    "Solving for $\\lambda$\n",
    "\n",
    "$0 = \\sum_{i=1}^{N} \\gamma_{exp_i} \\cdot (1/\\lambda - x_i) $\n",
    "or\n",
    "\n",
    "$\\lambda = \\frac {\\sum_{i=1}^{N} \\gamma_{exp_i}} {\\sum_{i=1}^{N} \\gamma_{exp_i} x_i}$\n",
    "\n",
    "* (b) wrt $\\mu$ and $\\sigma$ (parameters for N), a similar exercise with the normal distribution yields:\n",
    "\n",
    "$\\mu = \\frac {\\sum_{i=1}^{N} \\gamma_{norm_i} x_i} {\\sum_{i=1}^{N} \\gamma_{norm_i}}  $ \n",
    "\n",
    "$\\sigma = \\sqrt{\\frac { \\sum_{i=1}^{N} \\gamma_{norm_i} (x_i - \\mu)^2 } {\\sum_{i=1}^{N} \\gamma_{norm_i}} }$\n",
    "\n",
    "and \n",
    "\n",
    "$\\gamma_{norm_i}  =  \\frac{N(x_i/\\theta)}{exp(x_i/\\theta)\\cdot\\pi + N(x_i/\\theta)\\cdot(1-\\pi)} $\n"
   ]
  },
  {
   "cell_type": "markdown",
   "metadata": {},
   "source": [
    "THe EM process involves alternatively computing $\\gamma$ (E step) and estimating $\\mu$, $\\sigma$ and $\\lambda$ (M step) \n",
    "\n",
    "##### Coding it up for tensorflow"
   ]
  },
  {
   "cell_type": "code",
   "execution_count": 4,
   "metadata": {
    "collapsed": true
   },
   "outputs": [],
   "source": [
    "def normpdf(x, mu, sigma):\n",
    "    return tf.sqrt(1/(2*np.pi*tf.square(sigma))) * tf.exp(-tf.square(x-mu)/(2*tf.square(sigma)))\n",
    "\n",
    "def exppdf(t, lmbda):\n",
    "    expvals = lmbda*tf.exp(-1.*lmbda*t)\n",
    "    return expvals\n",
    "\n",
    "def gamma_exp(pi_exp, mu, sig, lmbda, t):\n",
    "    num = pi_exp * exppdf(t, lmbda)\n",
    "    den = num + (1-pi_exp)*normpdf(t, mu, sig)\n",
    "    return num/den\n",
    "\n",
    "def gamma_norm(pi_norm, mu, sig, lmbda, t):\n",
    "    num = pi_norm * normpdf(t, mu, sig)\n",
    "    den = num + (1-pi_norm)*exppdf(t, lmbda)\n",
    "    return num/den\n",
    "\n",
    "def exp_max_iter(t, pi, mu, sig, lmbda):\n",
    "    ge = gamma_exp(pi, mu, sig, lmbda, t)\n",
    "    gn = gamma_norm(1-pi, mu, sig, lmbda, t)\n",
    "    ge_sum = tf.reduce_sum(ge)\n",
    "    lmbda_hat = ge_sum/tf.reduce_sum(ge*t)\n",
    "    gnsum = tf.reduce_sum(gn)\n",
    "    mu_hat = tf.reduce_sum(gn*t)/gnsum\n",
    "    sig_hat = tf.sqrt(tf.reduce_sum(gn*(t-mu_hat)*(t-mu_hat))/gnsum)\n",
    "    pi_hat = ge_sum/ t.get_shape()[0].value\n",
    "    return pi_hat, mu_hat, sig_hat, lmbda_hat,  gnsum/ t.get_shape()[0].value\n"
   ]
  },
  {
   "cell_type": "markdown",
   "metadata": {},
   "source": [
    "#### Testing on a sample data set"
   ]
  },
  {
   "cell_type": "code",
   "execution_count": 5,
   "metadata": {
    "collapsed": false
   },
   "outputs": [
    {
     "name": "stdout",
     "output_type": "stream",
     "text": [
      "('Shape of D:', (100000000,))\n"
     ]
    },
    {
     "data": {
      "image/png": "[encoded data removed]",
      "text/plain": [
       "<matplotlib.figure.Figure at 0x7fe55fef9810>"
      ]
     },
     "metadata": {},
     "output_type": "display_data"
    }
   ],
   "source": [
    "\n",
    "pi_actual = 0.3 \n",
    "mu_actual = 7.\n",
    "sigma_actual = 1.\n",
    "lambda_actual = 0.4\n",
    "\n",
    "N = int(1e8) #Data set with 100 million records\n",
    "D = np.zeros((N), dtype=np.float64)\n",
    "\n",
    "num_exp = int(pi_actual*N)\n",
    "\n",
    "D[:num_exp] = np.random.exponential(1./lambda_actual, num_exp)\n",
    "D[num_exp:] = np.random.normal(mu_actual, sigma_actual, N - num_exp)\n",
    "\n",
    "histdata = pl.hist(D, bins=200)\n",
    "print (\"Shape of D:\", D.shape)"
   ]
  },
  {
   "cell_type": "markdown",
   "metadata": {},
   "source": [
    "### Running the iterations in tensorflow"
   ]
  },
  {
   "cell_type": "code",
   "execution_count": 6,
   "metadata": {
    "collapsed": false
   },
   "outputs": [],
   "source": [
    "sess = tf.InteractiveSession()\n"
   ]
  },
  {
   "cell_type": "code",
   "execution_count": 7,
   "metadata": {
    "collapsed": true
   },
   "outputs": [],
   "source": [
    "x = tf.placeholder(dtype=tf.float32, shape=D.shape)"
   ]
  },
  {
   "cell_type": "code",
   "execution_count": 8,
   "metadata": {
    "collapsed": false
   },
   "outputs": [
    {
     "name": "stdout",
     "output_type": "stream",
     "text": [
      "pi: actual 0.300000, estimated 0.299904, error 0.000319\n",
      "mu: actual 7.000000, estimated 6.999922, error 0.000011\n",
      "sigma: actual 1.000000, estimated 1.000253, error -0.000253\n",
      "lambda: actual 0.400000, estimated 0.400113, error -0.000282\n",
      "Total process time 11.137076 seconds, 0.556854 seconds per iteration\n"
     ]
    }
   ],
   "source": [
    "import time\n",
    "pi = 0.5 \n",
    "lmbda = 1.\n",
    "mu = 2.\n",
    "sig = 3.\n",
    "num_iterations = 20\n",
    "start = time.time()\n",
    "for i in range(num_iterations):\n",
    "    pi_hat, mu_hat, sig_hat, lmbda_hat, pi_hat_2 = exp_max_iter(x, pi, mu, sig, lmbda)\n",
    "    pi, mu, sig, lmbda, p2 = sess.run([pi_hat, mu_hat, sig_hat, lmbda_hat, pi_hat_2], {x:D})\n",
    "end = time.time()\n",
    "print(\"pi: actual %f, estimated %f, error %f\"%(pi_actual, pi, (pi_actual - pi)/pi_actual))\n",
    "print(\"mu: actual %f, estimated %f, error %f\"%(mu_actual, mu, (mu_actual - mu)/mu_actual))\n",
    "print(\"sigma: actual %f, estimated %f, error %f\"%(sigma_actual, sig, (sigma_actual - sig)/sigma_actual))\n",
    "print(\"lambda: actual %f, estimated %f, error %f\"%(lambda_actual, lmbda, (lambda_actual - lmbda)/lambda_actual))\n",
    "print(\"Total process time %f seconds, %f seconds per iteration\"%(end-start, (end-start)/20))"
   ]
  },
  {
   "cell_type": "markdown",
   "metadata": {},
   "source": [
    "Histogram of the samples that have a higher probability to have come from the exponential distribution"
   ]
  },
  {
   "cell_type": "code",
   "execution_count": 9,
   "metadata": {
    "collapsed": false
   },
   "outputs": [
    {
     "data": {
      "text/plain": [
       "<matplotlib.text.Text at 0x7fe4d43af050>"
      ]
     },
     "execution_count": 9,
     "metadata": {},
     "output_type": "execute_result"
    },
    {
     "data": {
      "image/png": "[encoded data removed]",
      "text/plain": [
       "<matplotlib.figure.Figure at 0x7fe5601d3d50>"
      ]
     },
     "metadata": {},
     "output_type": "display_data"
    }
   ],
   "source": [
    "ge = gamma_exp(pi, mu, sig, lmbda, x)\n",
    "pi_i = sess.run(ge, {x:D})\n",
    "pl.subplot(2,1,1)\n",
    "n, bins, patches = pl.hist(D[pi_i>0.5],bins=200)\n",
    "pl.xlim(0,20)\n",
    "pl.title('Samples from exponential distribution')\n",
    "pl.subplot(2,1,2)\n",
    "n, bins, patches = pl.hist(D[pi_i<0.5],bins=200)\n",
    "pl.xlim(0,20)\n",
    "pl.title('Samples from gaussian distribution')\n",
    "\n"
   ]
  },
  {
   "cell_type": "markdown",
   "metadata": {},
   "source": [
    "Although this method provides a good estimate, it is very sensitive to initializations.  Some initiailizations with a lot of overlap can cause the values to explode.."
   ]
  }
 ],
 "metadata": {
  "kernelspec": {
   "display_name": "Python 2",
   "language": "python",
   "name": "python2"
  },
  "language_info": {
   "codemirror_mode": {
    "name": "ipython",
    "version": 2
   },
   "file_extension": ".py",
   "mimetype": "text/x-python",
   "name": "python",
   "nbconvert_exporter": "python",
   "pygments_lexer": "ipython2",
   "version": "2.7.6"
  }
 },
 "nbformat": 4,
 "nbformat_minor": 0
}
